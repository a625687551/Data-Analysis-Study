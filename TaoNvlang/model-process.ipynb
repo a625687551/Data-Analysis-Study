{
 "cells": [
  {
   "cell_type": "code",
   "execution_count": 1,
   "metadata": {
    "collapsed": false
   },
   "outputs": [],
   "source": [
    "import pandas as pd\n",
    "import json\n",
    "import matplotlib.pyplot as plt\n",
    "import numpy as np\n",
    "import codecs\n",
    "%matplotlib inline"
   ]
  },
  {
   "cell_type": "code",
   "execution_count": 2,
   "metadata": {
    "collapsed": false
   },
   "outputs": [
    {
     "data": {
      "text/plain": [
       "'D:\\\\GitHub\\\\DataAnalysis\\\\TaoNvlang'"
      ]
     },
     "execution_count": 2,
     "metadata": {},
     "output_type": "execute_result"
    }
   ],
   "source": [
    "pwd"
   ]
  },
  {
   "cell_type": "code",
   "execution_count": 110,
   "metadata": {
    "collapsed": false
   },
   "outputs": [
    {
     "data": {
      "text/plain": [
       "40997"
      ]
     },
     "execution_count": 110,
     "metadata": {},
     "output_type": "execute_result"
    }
   ],
   "source": [
    "path='model.json'\n",
    "db=[json.loads(line) for line in open(path,encoding='utf-8')]\n",
    "#db=json.load(open(path,encoding='utf-8'))\n",
    "len(db)"
   ]
  },
  {
   "cell_type": "code",
   "execution_count": 111,
   "metadata": {
    "collapsed": false
   },
   "outputs": [],
   "source": [
    "df=pd.DataFrame(db)"
   ]
  },
  {
   "cell_type": "code",
   "execution_count": 112,
   "metadata": {
    "collapsed": true
   },
   "outputs": [],
   "source": [
    "df=df.drop(['_id','userId','name'],axis=1)"
   ]
  },
  {
   "cell_type": "code",
   "execution_count": 113,
   "metadata": {
    "collapsed": false
   },
   "outputs": [
    {
     "data": {
      "text/html": [
       "<div>\n",
       "<table border=\"1\" class=\"dataframe\">\n",
       "  <thead>\n",
       "    <tr style=\"text-align: right;\">\n",
       "      <th></th>\n",
       "      <th>BWH</th>\n",
       "      <th>bar</th>\n",
       "      <th>birthday</th>\n",
       "      <th>blood_type</th>\n",
       "      <th>city</th>\n",
       "      <th>exprience</th>\n",
       "      <th>height</th>\n",
       "      <th>job</th>\n",
       "      <th>school_major</th>\n",
       "      <th>shose</th>\n",
       "      <th>tag</th>\n",
       "      <th>weight</th>\n",
       "    </tr>\n",
       "  </thead>\n",
       "  <tbody>\n",
       "    <tr>\n",
       "      <th>0</th>\n",
       "      <td>79-58-81</td>\n",
       "      <td>75B</td>\n",
       "      <td>[公历, 01月10日]</td>\n",
       "      <td></td>\n",
       "      <td>杭州市</td>\n",
       "      <td>[05-10年, 先后为淘宝网店拍摄, 为多家摄影工作室拍摄内刊, 为, 《瑞丽服饰与美容》...</td>\n",
       "      <td>163.0CM</td>\n",
       "      <td>平面模特</td>\n",
       "      <td>[北京农学院, 艺术设计]</td>\n",
       "      <td>36码</td>\n",
       "      <td>[鞋包, 配饰, 泳衣, OL, 运动, 韩风, 小清新, 日系, 甜美风]</td>\n",
       "      <td>42.0KG</td>\n",
       "    </tr>\n",
       "    <tr>\n",
       "      <th>1</th>\n",
       "      <td>82-60-85</td>\n",
       "      <td>----</td>\n",
       "      <td>[公历, 09月30日]</td>\n",
       "      <td>O型</td>\n",
       "      <td>杭州市</td>\n",
       "      <td>[大家好, 我是模特, 景仪niki, 原新锐杂志签约模特, 从事拍摄有5年经验, 普拍：3...</td>\n",
       "      <td>166CM</td>\n",
       "      <td>平面模特</td>\n",
       "      <td>[]</td>\n",
       "      <td>38码</td>\n",
       "      <td>[O型, 平面模特, 韩版, 淑女, 甜美]</td>\n",
       "      <td>40KG</td>\n",
       "    </tr>\n",
       "    <tr>\n",
       "      <th>2</th>\n",
       "      <td>85-58-88</td>\n",
       "      <td>32C</td>\n",
       "      <td>[农历, 09月03日]</td>\n",
       "      <td></td>\n",
       "      <td>杭州市</td>\n",
       "      <td>[美空网精英模特演员, 大连品牌服装我的组合, MYMIX, 形象代言模特；, 美空网推荐湖...</td>\n",
       "      <td>172CM</td>\n",
       "      <td>平面模特</td>\n",
       "      <td>[]</td>\n",
       "      <td>38码</td>\n",
       "      <td>[时尚, 大气, 日系, 甜美, 韩版, 欧美]</td>\n",
       "      <td>47KG</td>\n",
       "    </tr>\n",
       "    <tr>\n",
       "      <th>3</th>\n",
       "      <td>80-65-88</td>\n",
       "      <td>32B</td>\n",
       "      <td>[公历, 07月12日]</td>\n",
       "      <td></td>\n",
       "      <td>杭州市</td>\n",
       "      <td>[4年模特经验]</td>\n",
       "      <td>168.0CM</td>\n",
       "      <td>平面模特</td>\n",
       "      <td>[浙江艺术学校, 音乐]</td>\n",
       "      <td>38码</td>\n",
       "      <td>[复古, 可爱, 日韩, 韩版, 韩系, 欧美, 甜美风, 淑女]</td>\n",
       "      <td>48.0KG</td>\n",
       "    </tr>\n",
       "    <tr>\n",
       "      <th>4</th>\n",
       "      <td>85-63-86</td>\n",
       "      <td>34C</td>\n",
       "      <td>[公历, 08月16日]</td>\n",
       "      <td>AB型</td>\n",
       "      <td>广州市</td>\n",
       "      <td>[平面广告拍摄, 淘宝服装拍摄]</td>\n",
       "      <td>168.0CM</td>\n",
       "      <td>平面模特</td>\n",
       "      <td>[省工艺美校, 装潢]</td>\n",
       "      <td>36码</td>\n",
       "      <td>[泳衣, 比基尼, 内衣, 欧美, 性感, 街头, 狮子座]</td>\n",
       "      <td>45.0KG</td>\n",
       "    </tr>\n",
       "  </tbody>\n",
       "</table>\n",
       "</div>"
      ],
      "text/plain": [
       "        BWH   bar      birthday blood_type city  \\\n",
       "0  79-58-81   75B  [公历, 01月10日]             杭州市   \n",
       "1  82-60-85  ----  [公历, 09月30日]         O型  杭州市   \n",
       "2  85-58-88   32C  [农历, 09月03日]             杭州市   \n",
       "3  80-65-88   32B  [公历, 07月12日]             杭州市   \n",
       "4  85-63-86   34C  [公历, 08月16日]        AB型  广州市   \n",
       "\n",
       "                                           exprience   height   job  \\\n",
       "0  [05-10年, 先后为淘宝网店拍摄, 为多家摄影工作室拍摄内刊, 为, 《瑞丽服饰与美容》...  163.0CM  平面模特   \n",
       "1  [大家好, 我是模特, 景仪niki, 原新锐杂志签约模特, 从事拍摄有5年经验, 普拍：3...    166CM  平面模特   \n",
       "2  [美空网精英模特演员, 大连品牌服装我的组合, MYMIX, 形象代言模特；, 美空网推荐湖...    172CM  平面模特   \n",
       "3                                           [4年模特经验]  168.0CM  平面模特   \n",
       "4                                   [平面广告拍摄, 淘宝服装拍摄]  168.0CM  平面模特   \n",
       "\n",
       "    school_major shose                                     tag  weight  \n",
       "0  [北京农学院, 艺术设计]   36码  [鞋包, 配饰, 泳衣, OL, 运动, 韩风, 小清新, 日系, 甜美风]  42.0KG  \n",
       "1             []   38码                  [O型, 平面模特, 韩版, 淑女, 甜美]    40KG  \n",
       "2             []   38码                [时尚, 大气, 日系, 甜美, 韩版, 欧美]    47KG  \n",
       "3   [浙江艺术学校, 音乐]   38码       [复古, 可爱, 日韩, 韩版, 韩系, 欧美, 甜美风, 淑女]  48.0KG  \n",
       "4    [省工艺美校, 装潢]   36码          [泳衣, 比基尼, 内衣, 欧美, 性感, 街头, 狮子座]  45.0KG  "
      ]
     },
     "execution_count": 113,
     "metadata": {},
     "output_type": "execute_result"
    }
   ],
   "source": [
    "df.head(5)"
   ]
  },
  {
   "cell_type": "code",
   "execution_count": 114,
   "metadata": {
    "collapsed": false
   },
   "outputs": [],
   "source": [
    "df.loc[df['bar']=='----','bar-1']=' '\n",
    "df.loc[df['bar']!='----','bar-1']=df['bar'].str.findall(r'.*?([A-Z])')"
   ]
  },
  {
   "cell_type": "code",
   "execution_count": 115,
   "metadata": {
    "collapsed": false
   },
   "outputs": [],
   "source": [
    "df['bar-1']=df['bar-1'].str[0].replace(' ','')"
   ]
  },
  {
   "cell_type": "code",
   "execution_count": 116,
   "metadata": {
    "collapsed": false
   },
   "outputs": [
    {
     "data": {
      "text/html": [
       "<div>\n",
       "<table border=\"1\" class=\"dataframe\">\n",
       "  <thead>\n",
       "    <tr style=\"text-align: right;\">\n",
       "      <th></th>\n",
       "      <th>BWH</th>\n",
       "      <th>bar</th>\n",
       "      <th>birthday</th>\n",
       "      <th>blood_type</th>\n",
       "      <th>city</th>\n",
       "      <th>exprience</th>\n",
       "      <th>height</th>\n",
       "      <th>job</th>\n",
       "      <th>school_major</th>\n",
       "      <th>shose</th>\n",
       "      <th>tag</th>\n",
       "      <th>weight</th>\n",
       "      <th>bar-1</th>\n",
       "    </tr>\n",
       "  </thead>\n",
       "  <tbody>\n",
       "    <tr>\n",
       "      <th>0</th>\n",
       "      <td>79-58-81</td>\n",
       "      <td>75B</td>\n",
       "      <td>[公历, 01月10日]</td>\n",
       "      <td></td>\n",
       "      <td>杭州市</td>\n",
       "      <td>[05-10年, 先后为淘宝网店拍摄, 为多家摄影工作室拍摄内刊, 为, 《瑞丽服饰与美容》...</td>\n",
       "      <td>163.0CM</td>\n",
       "      <td>平面模特</td>\n",
       "      <td>[北京农学院, 艺术设计]</td>\n",
       "      <td>36码</td>\n",
       "      <td>[鞋包, 配饰, 泳衣, OL, 运动, 韩风, 小清新, 日系, 甜美风]</td>\n",
       "      <td>42.0KG</td>\n",
       "      <td>B</td>\n",
       "    </tr>\n",
       "    <tr>\n",
       "      <th>1</th>\n",
       "      <td>82-60-85</td>\n",
       "      <td>----</td>\n",
       "      <td>[公历, 09月30日]</td>\n",
       "      <td>O型</td>\n",
       "      <td>杭州市</td>\n",
       "      <td>[大家好, 我是模特, 景仪niki, 原新锐杂志签约模特, 从事拍摄有5年经验, 普拍：3...</td>\n",
       "      <td>166CM</td>\n",
       "      <td>平面模特</td>\n",
       "      <td>[]</td>\n",
       "      <td>38码</td>\n",
       "      <td>[O型, 平面模特, 韩版, 淑女, 甜美]</td>\n",
       "      <td>40KG</td>\n",
       "      <td></td>\n",
       "    </tr>\n",
       "    <tr>\n",
       "      <th>2</th>\n",
       "      <td>85-58-88</td>\n",
       "      <td>32C</td>\n",
       "      <td>[农历, 09月03日]</td>\n",
       "      <td></td>\n",
       "      <td>杭州市</td>\n",
       "      <td>[美空网精英模特演员, 大连品牌服装我的组合, MYMIX, 形象代言模特；, 美空网推荐湖...</td>\n",
       "      <td>172CM</td>\n",
       "      <td>平面模特</td>\n",
       "      <td>[]</td>\n",
       "      <td>38码</td>\n",
       "      <td>[时尚, 大气, 日系, 甜美, 韩版, 欧美]</td>\n",
       "      <td>47KG</td>\n",
       "      <td>C</td>\n",
       "    </tr>\n",
       "    <tr>\n",
       "      <th>3</th>\n",
       "      <td>80-65-88</td>\n",
       "      <td>32B</td>\n",
       "      <td>[公历, 07月12日]</td>\n",
       "      <td></td>\n",
       "      <td>杭州市</td>\n",
       "      <td>[4年模特经验]</td>\n",
       "      <td>168.0CM</td>\n",
       "      <td>平面模特</td>\n",
       "      <td>[浙江艺术学校, 音乐]</td>\n",
       "      <td>38码</td>\n",
       "      <td>[复古, 可爱, 日韩, 韩版, 韩系, 欧美, 甜美风, 淑女]</td>\n",
       "      <td>48.0KG</td>\n",
       "      <td>B</td>\n",
       "    </tr>\n",
       "    <tr>\n",
       "      <th>4</th>\n",
       "      <td>85-63-86</td>\n",
       "      <td>34C</td>\n",
       "      <td>[公历, 08月16日]</td>\n",
       "      <td>AB型</td>\n",
       "      <td>广州市</td>\n",
       "      <td>[平面广告拍摄, 淘宝服装拍摄]</td>\n",
       "      <td>168.0CM</td>\n",
       "      <td>平面模特</td>\n",
       "      <td>[省工艺美校, 装潢]</td>\n",
       "      <td>36码</td>\n",
       "      <td>[泳衣, 比基尼, 内衣, 欧美, 性感, 街头, 狮子座]</td>\n",
       "      <td>45.0KG</td>\n",
       "      <td>C</td>\n",
       "    </tr>\n",
       "  </tbody>\n",
       "</table>\n",
       "</div>"
      ],
      "text/plain": [
       "        BWH   bar      birthday blood_type city  \\\n",
       "0  79-58-81   75B  [公历, 01月10日]             杭州市   \n",
       "1  82-60-85  ----  [公历, 09月30日]         O型  杭州市   \n",
       "2  85-58-88   32C  [农历, 09月03日]             杭州市   \n",
       "3  80-65-88   32B  [公历, 07月12日]             杭州市   \n",
       "4  85-63-86   34C  [公历, 08月16日]        AB型  广州市   \n",
       "\n",
       "                                           exprience   height   job  \\\n",
       "0  [05-10年, 先后为淘宝网店拍摄, 为多家摄影工作室拍摄内刊, 为, 《瑞丽服饰与美容》...  163.0CM  平面模特   \n",
       "1  [大家好, 我是模特, 景仪niki, 原新锐杂志签约模特, 从事拍摄有5年经验, 普拍：3...    166CM  平面模特   \n",
       "2  [美空网精英模特演员, 大连品牌服装我的组合, MYMIX, 形象代言模特；, 美空网推荐湖...    172CM  平面模特   \n",
       "3                                           [4年模特经验]  168.0CM  平面模特   \n",
       "4                                   [平面广告拍摄, 淘宝服装拍摄]  168.0CM  平面模特   \n",
       "\n",
       "    school_major shose                                     tag  weight bar-1  \n",
       "0  [北京农学院, 艺术设计]   36码  [鞋包, 配饰, 泳衣, OL, 运动, 韩风, 小清新, 日系, 甜美风]  42.0KG     B  \n",
       "1             []   38码                  [O型, 平面模特, 韩版, 淑女, 甜美]    40KG        \n",
       "2             []   38码                [时尚, 大气, 日系, 甜美, 韩版, 欧美]    47KG     C  \n",
       "3   [浙江艺术学校, 音乐]   38码       [复古, 可爱, 日韩, 韩版, 韩系, 欧美, 甜美风, 淑女]  48.0KG     B  \n",
       "4    [省工艺美校, 装潢]   36码          [泳衣, 比基尼, 内衣, 欧美, 性感, 街头, 狮子座]  45.0KG     C  "
      ]
     },
     "execution_count": 116,
     "metadata": {},
     "output_type": "execute_result"
    }
   ],
   "source": [
    "df.head()"
   ]
  },
  {
   "cell_type": "code",
   "execution_count": 117,
   "metadata": {
    "collapsed": false,
    "scrolled": true
   },
   "outputs": [
    {
     "data": {
      "text/plain": [
       "BWH             40997\n",
       "bar             40997\n",
       "birthday        40997\n",
       "blood_type      40997\n",
       "city            40997\n",
       "exprience       40997\n",
       "height          40997\n",
       "job             40997\n",
       "school_major    40997\n",
       "shose           40997\n",
       "tag             40997\n",
       "weight          40997\n",
       "bar-1           32277\n",
       "dtype: int64"
      ]
     },
     "execution_count": 117,
     "metadata": {},
     "output_type": "execute_result"
    }
   ],
   "source": [
    "# plt.figure(figsize=(6,9))\n",
    "# labels=['A','B','C','D','E','未知']\n",
    "# color=['']\n",
    "# explode=(0.05,0,0)\n",
    "df.count()"
   ]
  },
  {
   "cell_type": "code",
   "execution_count": 125,
   "metadata": {
    "collapsed": false
   },
   "outputs": [],
   "source": [
    "df2=df.drop(df['bar-1']=='',axis=0)"
   ]
  },
  {
   "cell_type": "code",
   "execution_count": 146,
   "metadata": {
    "collapsed": false
   },
   "outputs": [],
   "source": [
    "df2=df.loc[(df['bar-1']=='A')|(df['bar-1']=='B')|(df['bar-1']=='C')|(df['bar-1']=='D')|(df['bar-1']=='E')|(df['bar-1']=='F')]"
   ]
  },
  {
   "cell_type": "code",
   "execution_count": 147,
   "metadata": {
    "collapsed": false
   },
   "outputs": [],
   "source": [
    "grouped=df2.groupby(['bar-1'])"
   ]
  },
  {
   "cell_type": "code",
   "execution_count": 148,
   "metadata": {
    "collapsed": false,
    "scrolled": false
   },
   "outputs": [
    {
     "data": {
      "text/plain": [
       "bar-1\n",
       "A     6221\n",
       "B    18211\n",
       "C     4544\n",
       "D      487\n",
       "E       60\n",
       "F       18\n",
       "dtype: int64"
      ]
     },
     "execution_count": 148,
     "metadata": {},
     "output_type": "execute_result"
    }
   ],
   "source": [
    "grouped.size()"
   ]
  },
  {
   "cell_type": "code",
   "execution_count": 172,
   "metadata": {
    "collapsed": false
   },
   "outputs": [
    {
     "data": {
      "text/plain": [
       "<matplotlib.legend.Legend at 0x92c8da0>"
      ]
     },
     "execution_count": 172,
     "metadata": {},
     "output_type": "execute_result"
    },
    {
     "data": {
      "image/png": "[encoded data removed]",
      "text/plain": [
       "<matplotlib.figure.Figure at 0x92c8668>"
      ]
     },
     "metadata": {},
     "output_type": "display_data"
    }
   ],
   "source": [
    "plt.figure(figsize=(6,6))\n",
    "labels=['A','B','C','D','E','F']\n",
    "colors=['b', 'g', 'r', 'c', 'm', 'y']\n",
    "explode=[0,0,0,0,0.2,0.2]\n",
    "plt.pie(grouped.size(),labels=labels,autopct='%1.5f%%')\n",
    "plt.title(u'model cup analysis')\n",
    "plt.axis('equal')\n",
    "plt.legend()"
   ]
  },
  {
   "cell_type": "code",
   "execution_count": 151,
   "metadata": {
    "collapsed": false
   },
   "outputs": [
    {
     "name": "stdout",
     "output_type": "stream",
     "text": [
      "Help on function pie in module matplotlib.pyplot:\n",
      "\n",
      "pie(x, explode=None, labels=None, colors=None, autopct=None, pctdistance=0.6, shadow=False, labeldistance=1.1, startangle=None, radius=None, counterclock=True, wedgeprops=None, textprops=None, center=(0, 0), frame=False, hold=None, data=None)\n",
      "    Plot a pie chart.\n",
      "    \n",
      "    Call signature::\n",
      "    \n",
      "      pie(x, explode=None, labels=None,\n",
      "          colors=('b', 'g', 'r', 'c', 'm', 'y', 'k', 'w'),\n",
      "          autopct=None, pctdistance=0.6, shadow=False,\n",
      "          labeldistance=1.1, startangle=None, radius=None,\n",
      "          counterclock=True, wedgeprops=None, textprops=None,\n",
      "          center = (0, 0), frame = False )\n",
      "    \n",
      "    Make a pie chart of array *x*.  The fractional area of each\n",
      "    wedge is given by x/sum(x).  If sum(x) <= 1, then the values\n",
      "    of x give the fractional area directly and the array will not\n",
      "    be normalized.  The wedges are plotted counterclockwise,\n",
      "    by default starting from the x-axis.\n",
      "    \n",
      "    Keyword arguments:\n",
      "    \n",
      "      *explode*: [ *None* | len(x) sequence ]\n",
      "        If not *None*, is a ``len(x)`` array which specifies the\n",
      "        fraction of the radius with which to offset each wedge.\n",
      "    \n",
      "      *colors*: [ *None* | color sequence ]\n",
      "        A sequence of matplotlib color args through which the pie chart\n",
      "        will cycle.\n",
      "    \n",
      "      *labels*: [ *None* | len(x) sequence of strings ]\n",
      "        A sequence of strings providing the labels for each wedge\n",
      "    \n",
      "      *autopct*: [ *None* | format string | format function ]\n",
      "        If not *None*, is a string or function used to label the wedges\n",
      "        with their numeric value.  The label will be placed inside the\n",
      "        wedge.  If it is a format string, the label will be ``fmt%pct``.\n",
      "        If it is a function, it will be called.\n",
      "    \n",
      "      *pctdistance*: scalar\n",
      "        The ratio between the center of each pie slice and the\n",
      "        start of the text generated by *autopct*.  Ignored if\n",
      "        *autopct* is *None*; default is 0.6.\n",
      "    \n",
      "      *labeldistance*: scalar\n",
      "        The radial distance at which the pie labels are drawn\n",
      "    \n",
      "      *shadow*: [ *False* | *True* ]\n",
      "        Draw a shadow beneath the pie.\n",
      "    \n",
      "      *startangle*: [ *None* | Offset angle ]\n",
      "        If not *None*, rotates the start of the pie chart by *angle*\n",
      "        degrees counterclockwise from the x-axis.\n",
      "    \n",
      "      *radius*: [ *None* | scalar ]\n",
      "      The radius of the pie, if *radius* is *None* it will be set to 1.\n",
      "    \n",
      "      *counterclock*: [ *False* | *True* ]\n",
      "        Specify fractions direction, clockwise or counterclockwise.\n",
      "    \n",
      "      *wedgeprops*: [ *None* | dict of key value pairs ]\n",
      "        Dict of arguments passed to the wedge objects making the pie.\n",
      "        For example, you can pass in wedgeprops = { 'linewidth' : 3 }\n",
      "        to set the width of the wedge border lines equal to 3.\n",
      "        For more details, look at the doc/arguments of the wedge object.\n",
      "        By default `clip_on=False`.\n",
      "    \n",
      "      *textprops*: [ *None* | dict of key value pairs ]\n",
      "        Dict of arguments to pass to the text objects.\n",
      "    \n",
      "      *center*: [ (0,0) | sequence of 2 scalars ]\n",
      "      Center position of the chart.\n",
      "    \n",
      "      *frame*: [ *False* | *True* ]\n",
      "        Plot axes frame with the chart.\n",
      "    \n",
      "    The pie chart will probably look best if the figure and axes are\n",
      "    square, or the Axes aspect is equal.  e.g.::\n",
      "    \n",
      "      figure(figsize=(8,8))\n",
      "      ax = axes([0.1, 0.1, 0.8, 0.8])\n",
      "    \n",
      "    or::\n",
      "    \n",
      "      axes(aspect=1)\n",
      "    \n",
      "    Return value:\n",
      "      If *autopct* is *None*, return the tuple (*patches*, *texts*):\n",
      "    \n",
      "        - *patches* is a sequence of\n",
      "          :class:`matplotlib.patches.Wedge` instances\n",
      "    \n",
      "        - *texts* is a list of the label\n",
      "          :class:`matplotlib.text.Text` instances.\n",
      "    \n",
      "      If *autopct* is not *None*, return the tuple (*patches*,\n",
      "      *texts*, *autotexts*), where *patches* and *texts* are as\n",
      "      above, and *autotexts* is a list of\n",
      "      :class:`~matplotlib.text.Text` instances for the numeric\n",
      "      labels.\n",
      "    \n",
      "    Notes\n",
      "    -----\n",
      "    \n",
      "    In addition to the above described arguments, this function can take a\n",
      "    **data** keyword argument. If such a **data** argument is given, the\n",
      "    following arguments are replaced by **data[<arg>]**:\n",
      "    \n",
      "    * All arguments with the following names: 'labels', 'colors', 'x', 'explode'.\n",
      "    \n",
      "    \n",
      "    \n",
      "    \n",
      "    Additional kwargs: hold = [True|False] overrides default hold state\n",
      "\n"
     ]
    }
   ],
   "source": [
    "help(plt.pie)"
   ]
  },
  {
   "cell_type": "code",
   "execution_count": null,
   "metadata": {
    "collapsed": true
   },
   "outputs": [],
   "source": []
  }
 ],
 "metadata": {
  "anaconda-cloud": {},
  "kernelspec": {
   "display_name": "Python [Root]",
   "language": "python",
   "name": "Python [Root]"
  },
  "language_info": {
   "codemirror_mode": {
    "name": "ipython",
    "version": 3
   },
   "file_extension": ".py",
   "mimetype": "text/x-python",
   "name": "python",
   "nbconvert_exporter": "python",
   "pygments_lexer": "ipython3",
   "version": "3.5.2"
  }
 },
 "nbformat": 4,
 "nbformat_minor": 0
}
